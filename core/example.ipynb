{
 "cells": [
  {
   "cell_type": "markdown",
   "metadata": {},
   "source": [
    "# Paxos\n",
    "## Distributed algorithm project USI - 2018\n",
    "*Francesco Saverio Zuppichini*\n",
    "\n",
    "Paxos is a protocol used to solve consensus in asynchronous systems. Simply put, consensus can be used by a set of processes that need to agree on a single value. More commonly though, processes need to agree on a sequence of totally ordered values - a problem known as atomic broadcast. \n",
    "\n",
    "In this project, I used the Paxos protocol to implement atomic broadcast.\n",
    "\n",
    "Let's see some code:"
   ]
  },
  {
   "cell_type": "code",
   "execution_count": null,
   "metadata": {},
   "outputs": [],
   "source": [
    "import pprint\n",
    "\n",
    "from paxos import Worker\n",
    "\n",
    "\n",
    "\n",
    "network = {\n",
    "    'clients': (('239.0.0.1', 5000), 1),\n",
    "    'proposers': (('239.0.0.1', 6000), 1),\n",
    "    'acceptors': (('239.0.0.1', 7000), 5),\n",
    "    'learners': (('239.0.0.1', 8000), 2)\n",
    "}\n",
    "\n",
    "workers = []\n",
    "\n",
    "for role, ((ip, port), n) in network.items():\n",
    "    for id in range(n):\n",
    "        w = Worker.from_role(role, ip, port, id)\n",
    "        workers.append(w)\n",
    "\n",
    "pprint.pprint(network)\n",
    "\n",
    "for w in workers:\n",
    "    w(network)\n",
    "    w.start()\n",
    "\n",
    "workers[0].submit(1)"
   ]
  },
  {
   "cell_type": "code",
   "execution_count": null,
   "metadata": {},
   "outputs": [],
   "source": []
  }
 ],
 "metadata": {
  "kernelspec": {
   "display_name": "Python 3",
   "language": "python",
   "name": "python3"
  },
  "language_info": {
   "codemirror_mode": {
    "name": "ipython",
    "version": 3
   },
   "file_extension": ".py",
   "mimetype": "text/x-python",
   "name": "python",
   "nbconvert_exporter": "python",
   "pygments_lexer": "ipython3",
   "version": "3.6.5"
  }
 },
 "nbformat": 4,
 "nbformat_minor": 2
}
