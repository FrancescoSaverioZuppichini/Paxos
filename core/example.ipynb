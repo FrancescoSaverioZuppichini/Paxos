{
 "cells": [
  {
   "cell_type": "markdown",
   "metadata": {},
   "source": [
    "# Paxos\n",
    "## Distributed algorithm project USI - 2018\n",
    "*Francesco Saverio Zuppichini*\n",
    "\n",
    "Paxos is a protocol used to solve consensus in asynchronous systems. Simply put, consensus can be used by a set of processes that need to agree on a single value. More commonly though, processes need to agree on a sequence of totally ordered values - a problem known as atomic broadcast. \n",
    "\n",
    "In this project, I used the Paxos protocol to implement atomic broadcast.\n",
    "\n",
    "Let's see some code. The **learnes** will output the learned value"
   ]
  },
  {
   "cell_type": "code",
   "execution_count": 1,
   "metadata": {
    "scrolled": false
   },
   "outputs": [
    {
     "name": "stdout",
     "output_type": "stream",
     "text": [
      "{'acceptors': (('239.0.0.1', 7000), 5),\n",
      " 'clients': (('239.0.0.1', 5000), 1),\n",
      " 'learners': (('239.0.0.1', 8000), 2),\n",
      " 'proposers': (('239.0.0.1', 6000), 1)}\n",
      "value Hello world!\n",
      "\n",
      "value Hello world!\n",
      "\n"
     ]
    }
   ],
   "source": [
    "import pprint\n",
    "\n",
    "from paxos import Worker\n",
    "from utils import make_network, make_logger\n",
    "\n",
    "# define the topology\n",
    "# key = ((ip, port), n)\n",
    "network = {\n",
    "    'clients': (('239.0.0.1', 5000), 1),\n",
    "    'proposers': (('239.0.0.1', 6000), 1),\n",
    "    'acceptors': (('239.0.0.1', 7000), 5),\n",
    "    'learners': (('239.0.0.1', 8000), 2)\n",
    "}\n",
    "# optionally create a logger function. e.g. lambda x: print(x)\n",
    "logger = make_logger(debug=False)\n",
    "# creates all the workers from the network dictionary\n",
    "workers = Worker.from_network(network, logger=logger)\n",
    "\n",
    "pprint.pprint(network)\n",
    "# start the server in each workers. Each worker spawns a thread to listn for incoming msgs.\n",
    "[w.start() for w in workers]\n",
    "# get the client\n",
    "workers[0].submit('Hello world!\\n')"
   ]
  },
  {
   "cell_type": "markdown",
   "metadata": {},
   "source": [
    "To see all the messages types and useful informations you can enable the debug mode by calling `logger = make_logger(debug=True`)\n"
   ]
  }
 ],
 "metadata": {
  "kernelspec": {
   "display_name": "Python 3",
   "language": "python",
   "name": "python3"
  },
  "language_info": {
   "codemirror_mode": {
    "name": "ipython",
    "version": 3
   },
   "file_extension": ".py",
   "mimetype": "text/x-python",
   "name": "python",
   "nbconvert_exporter": "python",
   "pygments_lexer": "ipython3",
   "version": "3.6.5"
  }
 },
 "nbformat": 4,
 "nbformat_minor": 2
}
